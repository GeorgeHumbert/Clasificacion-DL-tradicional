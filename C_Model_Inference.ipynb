{
 "cells": [
  {
   "cell_type": "code",
   "execution_count": 6,
   "id": "26d5a6e2-cfc7-4b68-9178-511b296984fa",
   "metadata": {},
   "outputs": [],
   "source": [
    "import tensorflow as tf\n",
    "from tensorflow.keras.preprocessing.sequence import pad_sequences\n",
    "import joblib\n",
    "\n",
    "# Cargar el modelo entrenado\n",
    "model = tf.keras.models.load_model('modelo_imdb_dl.h5')\n",
    "\n",
    "# Cargar el tokenizador que fue guardado\n",
    "tokenizer = joblib.load('tokenizer.pkl')\n"
   ]
  },
  {
   "cell_type": "code",
   "execution_count": 7,
   "id": "19717cdc-5524-46cf-a0d3-9ea0bb280cad",
   "metadata": {},
   "outputs": [
    {
     "name": "stdout",
     "output_type": "stream",
     "text": [
      "1/1 [==============================] - 1s 501ms/step\n",
      "Sentiment prediction: negative\n"
     ]
    }
   ],
   "source": [
    "# Texto de ejemplo para la predicción\n",
    "new_review = \"This movie was absolutely fantastic and I loved it.\"\n",
    "\n",
    "# Tokenizar y rellenar (pad) el texto\n",
    "sequences = tokenizer.texts_to_sequences([new_review])\n",
    "padded = pad_sequences(sequences, maxlen=200)\n",
    "\n",
    "# Hacer la predicción\n",
    "prediction = model.predict(padded)\n",
    "\n",
    "# Interpretar la predicción\n",
    "sentiment = \"positive\" if prediction[0] > 0.5 else \"negative\"\n",
    "print(f\"Sentiment prediction: {sentiment}\")\n"
   ]
  },
  {
   "cell_type": "code",
   "execution_count": null,
   "id": "d57b5c7d-2908-4a76-928e-30a8df726f2a",
   "metadata": {},
   "outputs": [],
   "source": []
  }
 ],
 "metadata": {
  "kernelspec": {
   "display_name": "Python 3 (ipykernel)",
   "language": "python",
   "name": "python3"
  },
  "language_info": {
   "codemirror_mode": {
    "name": "ipython",
    "version": 3
   },
   "file_extension": ".py",
   "mimetype": "text/x-python",
   "name": "python",
   "nbconvert_exporter": "python",
   "pygments_lexer": "ipython3",
   "version": "3.8.19"
  }
 },
 "nbformat": 4,
 "nbformat_minor": 5
}
